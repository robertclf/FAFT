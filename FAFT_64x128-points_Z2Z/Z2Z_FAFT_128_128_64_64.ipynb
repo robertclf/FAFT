{
 "metadata": {
  "kernelspec": {
   "display_name": "Python 2",
   "language": "python",
   "name": "python2"
  },
  "language_info": {
   "codemirror_mode": {
    "name": "ipython",
    "version": 2
   },
   "file_extension": ".py",
   "mimetype": "text/x-python",
   "name": "python",
   "nbconvert_exporter": "python",
   "pygments_lexer": "ipython2",
   "version": "2.7.13"
  },
  "name": "",
  "signature": "sha256:7857a30e2a9b98b7658e28ee5cf080e7949ca27fb3132953a967c0c4906a2045"
 },
 "nbformat": 3,
 "nbformat_minor": 0,
 "worksheets": [
  {
   "cells": [
    {
     "cell_type": "markdown",
     "metadata": {},
     "source": [
      "# 4D Fast Accurate Fourier Transform - (128, 128, 64, 64)\n",
      "## Complex to Complex"
     ]
    },
    {
     "cell_type": "code",
     "collapsed": false,
     "input": [
      "import numpy as np\n",
      "import ctypes\n",
      "from ctypes import *\n",
      "\n",
      "import pycuda.gpuarray as gpuarray\n",
      "import pycuda.driver as cuda\n",
      "import pycuda.autoinit\n",
      "from pycuda.autoinit import context\n",
      "from pycuda.compiler import SourceModule\n",
      "\n",
      "import matplotlib.pyplot as plt\n",
      "import matplotlib.mlab as mlab\n",
      "import math\n",
      "\n",
      "import faft_4D as FAFT_4D\n",
      "\n",
      "import time"
     ],
     "language": "python",
     "metadata": {},
     "outputs": [],
     "prompt_number": 1
    },
    {
     "cell_type": "code",
     "collapsed": false,
     "input": [
      "%matplotlib inline    "
     ],
     "language": "python",
     "metadata": {},
     "outputs": [],
     "prompt_number": 2
    },
    {
     "cell_type": "heading",
     "level": 2,
     "metadata": {},
     "source": [
      "Loading FFT routines"
     ]
    },
    {
     "cell_type": "code",
     "collapsed": false,
     "input": [
      "#Loading FAFT 4D Z2Z library\n",
      "\n",
      "DIR_BASE = \"/home/robert/Documents/FAFT/FAFT_versions/FAFT_128_256_Z2Z-tmp4/\"\n",
      "DIR_BASE = \"/home/rcabrera/Documents/source/Python/FFT/FAFT_4D_Z2Z__64_128-tmp4/\"\n",
      "\n",
      "\n",
      "FAFT_4D_Z2Z = FAFT_4D.Plan_FAFT_4D_Z2Z__128_128_64_64( DIR_BASE )\n"
     ],
     "language": "python",
     "metadata": {},
     "outputs": [],
     "prompt_number": 3
    },
    {
     "cell_type": "heading",
     "level": 2,
     "metadata": {},
     "source": [
      "Initializing Grid"
     ]
    },
    {
     "cell_type": "code",
     "collapsed": false,
     "input": [
      "def Gaussian(x,mu,sigma):\n",
      "    return np.exp( - (x-mu)**2/sigma**2/2. , dtype=np.float64 )/(sigma*np.sqrt( 2*np.pi  ))\n",
      "\n",
      "def fftGaussian(p,mu,sigma):\n",
      "    return np.exp(-1j*mu*p , dtype=np.float64 )*np.exp( - p**2*sigma**2/2. , dtype=np.float64 )"
     ],
     "language": "python",
     "metadata": {},
     "outputs": [],
     "prompt_number": 4
    },
    {
     "cell_type": "markdown",
     "metadata": {},
     "source": [
      " The 4D space is defined as: \n",
      " $(p_y, y , p_x , x  )$ and is known as the PHASE SPACE"
     ]
    },
    {
     "cell_type": "markdown",
     "metadata": {},
     "source": [
      " The Fourier transformed 4D space is defined as: \n",
      " $(\\theta_y  \\lambda_y , \\theta_x , \\lambda_x, )$ and is known as the AMBIGUITY SPACE"
     ]
    },
    {
     "cell_type": "code",
     "collapsed": false,
     "input": [
      "\n",
      "gridDIM_x   = 128     #axis 0\n",
      "gridDIM_p_x = 128     #axis 1\n",
      "gridDIM_y   = 64      #axis 2    \n",
      "gridDIM_p_y = 64      #axis 3\n",
      "\n",
      "size = gridDIM_y*gridDIM_p_y*gridDIM_x*gridDIM_p_x\n",
      "\n",
      "axes0 = 0\n",
      "axes1 = 1\n",
      "axes2 = 2\n",
      "axes3 = 3\n",
      "\n",
      "segment_axes0 = 0\n",
      "segment_axes1 = 0\n",
      "segment_axes2 = 0\n",
      "segment_axes3 = 0\n",
      "\n",
      "normFactor = 1"
     ],
     "language": "python",
     "metadata": {},
     "outputs": [],
     "prompt_number": 5
    },
    {
     "cell_type": "code",
     "collapsed": false,
     "input": [
      "# Phase space window \n",
      "x_amplitude   = 14.    #axis 0\n",
      "p_x_amplitude = 14.    #axis 1\n",
      "y_amplitude   = 9.     #axis 2\n",
      "p_y_amplitude = 9.     #axis 3\n",
      "\n",
      "# Ambiguity space window \n",
      "lambda_x_amplitude = 12.   #axis 0\n",
      "theta_x_amplitude  = 12.   #axis 1\n",
      "lambda_y_amplitude = 10.    #axis 2\n",
      "theta_y_amplitude  = 10.    #axis 3 \n",
      "\n",
      "# Phase space step size \n",
      "dx    = 2*x_amplitude  /float(gridDIM_x)             #axis 0  \n",
      "dp_x  = 2*p_x_amplitude/float(gridDIM_p_x)           #axis 1\n",
      "dy    = 2*y_amplitude  /float(gridDIM_y)             #axis 2\n",
      "dp_y  = 2*p_y_amplitude/float(gridDIM_p_y)           #axis 3\n",
      "\n",
      "# Ambiguity space step size\n",
      "dlambda_x = 2*lambda_x_amplitude/float(gridDIM_x)       #axis 0\n",
      "dtheta_x  = 2*theta_x_amplitude /float(gridDIM_p_x)     #axis 1\n",
      "dlambda_y = 2*lambda_y_amplitude/float(gridDIM_y)       #axis 2\n",
      "dtheta_y  = 2*theta_y_amplitude /float(gridDIM_p_y)     #axis 3\n",
      "\n",
      "# delta parameters\n",
      "delta_x  =      dx*dlambda_x/(2*np.pi)    #axis 0\n",
      "delta_p_x =   dp_x*dtheta_x/(2*np.pi)     #axis 1\n",
      "delta_y  =      dy*dlambda_y/(2*np.pi)    #axis 2\n",
      "delta_p_y =   dp_y*dtheta_y/(2*np.pi)     #axis 3\n",
      "\n",
      "# Phase space range\n",
      "x_range   = np.linspace( -x_amplitude,   x_amplitude  -dx,    gridDIM_x  )    #axis 0\n",
      "p_x_range = np.linspace( -p_x_amplitude, p_x_amplitude-dp_x,  gridDIM_p_x)    #axis 1\n",
      "y_range   = np.linspace( -y_amplitude,   y_amplitude  -dy,    gridDIM_y  )    #axis 2\n",
      "p_y_range = np.linspace( -p_y_amplitude, p_y_amplitude-dp_y,  gridDIM_p_y)    #axis 3\n",
      "\n",
      "# Ambiguity space range\n",
      "lambda_x_range = np.linspace( -lambda_x_amplitude, lambda_x_amplitude-dlambda_x,   gridDIM_x )      #axis 0\n",
      "theta_x_range  = np.linspace( -theta_x_amplitude,  theta_x_amplitude -dtheta_x,    gridDIM_p_x )    #axis 1\n",
      "lambda_y_range = np.linspace( -lambda_y_amplitude, lambda_y_amplitude-dlambda_y,   gridDIM_y )      #axis 2\n",
      "theta_y_range  = np.linspace( -theta_y_amplitude,  theta_y_amplitude -dtheta_y,    gridDIM_p_y )    #axis 3\n",
      "\n",
      "# Grid \n",
      "x   =   x_range[ :, np.newaxis, np.newaxis, np.newaxis ]   #axis 0\n",
      "p_x = p_x_range[ np.newaxis, :, np.newaxis, np.newaxis ]   #axis 1\n",
      "y   =   y_range[ np.newaxis, np.newaxis, :, np.newaxis ]   #axis 2\n",
      "p_y = p_y_range[ np.newaxis, np.newaxis, np.newaxis, : ]   #axis 3\n"
     ],
     "language": "python",
     "metadata": {},
     "outputs": [],
     "prompt_number": 6
    },
    {
     "cell_type": "code",
     "collapsed": false,
     "input": [
      "def norm_GPU(W):\n",
      "    return gpuarray.sum(W).real.get()*dx*dy*dp_x*dp_y"
     ],
     "language": "python",
     "metadata": {},
     "outputs": [],
     "prompt_number": 7
    },
    {
     "cell_type": "heading",
     "level": 2,
     "metadata": {},
     "source": [
      "Initializing the state"
     ]
    },
    {
     "cell_type": "code",
     "collapsed": false,
     "input": [
      "# Gaussian parameters in the Phase space -------------------------\n",
      "\n",
      "x_mu = 1.5;      x_sigma = 1.        #axis 0\n",
      "p_x_mu = 1.5;    p_x_sigma = 1.      #axis 1\n",
      "y_mu = 1.;       y_sigma = 1.        #axis 2\n",
      "p_y_mu = 1.;     p_y_sigma = 1.      #axis 3\n",
      "\n",
      "\n",
      "#-----------------------------------------------------------------\n",
      "\n",
      "f = Gaussian(x,x_mu,x_sigma)*Gaussian(y,y_mu,y_sigma)*Gaussian(p_x,p_x_mu, p_x_sigma)*Gaussian(p_y,p_y_mu,p_y_sigma)\n",
      "\n",
      "#f = f + 1j*np.zeros_like(f)\n",
      "f = f + 0j\n",
      "\n",
      "print ' Amplitude x = ',  x_amplitude\n",
      "print ' Amplitude p_x = ',p_x_amplitude\n",
      "print '        '\n",
      "\n",
      "print 'mu_x = ', x_mu\n",
      "print 'mu_y = ', y_mu\n",
      "print 'p_x_mu = ', p_x_mu\n",
      "print 'p_y_mu = ', p_y_mu\n",
      "\n",
      "print '   '\n",
      "\n",
      "print 'n     = ', x.size\n",
      "print 'dx    = ', dx\n",
      "print 'dp_x  = ', dp_x\n",
      "print '           standard fft dp = ',2 * np.pi /( 2*x_amplitude ) , '     '\n",
      "print '    '\n",
      "print 'delta_x = ', delta_x\n",
      "\n",
      "\n",
      "print '    '\n",
      "\n",
      "print 'The Gaussian extends to the numerical error in single precision:'  \n",
      "print '    min = ', np.min(f.real)\n",
      "\n",
      "print '  '\n",
      "print 'Normalization = ', np.sum( f ).real*dx*dy*dp_x*dp_y\n",
      "print ' '\n",
      "print 'Axis = [ x, p_x, y, p_y ]   ->   [ lambda_x, theta_x, lambda_y, theta_y ]  '"
     ],
     "language": "python",
     "metadata": {},
     "outputs": [
      {
       "output_type": "stream",
       "stream": "stdout",
       "text": [
        " Amplitude x =  14.0\n",
        " Amplitude p_x =  14.0\n",
        "        \n",
        "mu_x =  1.5\n",
        "mu_y =  1.0\n",
        "p_x_mu =  1.5\n",
        "p_y_mu =  1.0\n",
        "   \n",
        "n     =  128\n",
        "dx    =  0.21875\n",
        "dp_x  =  0.21875\n",
        "           standard fft dp =  0.224399475256      \n",
        "    \n",
        "delta_x =  0.00652783946275\n",
        "    \n",
        "The Gaussian extends to the numerical error in single precision:\n",
        "    min =  "
       ]
      },
      {
       "output_type": "stream",
       "stream": "stdout",
       "text": [
        "4.31462241843e-150\n",
        "  \n",
        "Normalization =  "
       ]
      },
      {
       "output_type": "stream",
       "stream": "stdout",
       "text": [
        "1.0\n",
        " \n",
        "Axis = [ x, p_x, y, p_y ]   ->   [ lambda_x, theta_x, lambda_y, theta_y ]  \n"
       ]
      }
     ],
     "prompt_number": 8
    },
    {
     "cell_type": "code",
     "collapsed": false,
     "input": [
      "# Phase space y\n",
      "plt.imshow( f[gridDIM_x/2, gridDIM_p_x/2, :, :].real, \n",
      "           extent=[-p_y_amplitude, p_y_amplitude-dp_y, -y_amplitude, y_amplitude-dy],\n",
      "           origin='lower', interpolation='none')\n",
      "\n",
      "axis_font = {'size':'24'}\n",
      "plt.title('$W$' , **axis_font)\n",
      "plt.xlabel('$p_y$',**axis_font)\n",
      "plt.ylabel('$y$',**axis_font)\n",
      "\n",
      "plt.colorbar()\n",
      "\n",
      "print 'max-min = ', f[gridDIM_x/2, gridDIM_p_x/2, :, :].real.max(), '  ', f[gridDIM_x/2, gridDIM_p_x/2, :, :].real.min()"
     ],
     "language": "python",
     "metadata": {},
     "outputs": [
      {
       "output_type": "stream",
       "stream": "stdout",
       "text": [
        "max-min =  0.00262840223446    9.93183483475e-47\n"
       ]
      },
      {
       "metadata": {},
       "output_type": "display_data",
       "png": "[encoded data removed]",
       "text": [
        "<matplotlib.figure.Figure at 0x7f49e00371d0>"
       ]
      }
     ],
     "prompt_number": 9
    },
    {
     "cell_type": "code",
     "collapsed": false,
     "input": [
      "# Phase space x \n",
      "plt.imshow( f[ :, :, gridDIM_y/2, gridDIM_p_y/2 ].real, \n",
      "           extent=[-p_x_amplitude , p_x_amplitude-dp_x, -x_amplitude , x_amplitude-dx] ,\n",
      "           origin='lower', interpolation='none')\n",
      "\n",
      "axis_font = {'size':'24'}\n",
      "plt.title('$W$' , **axis_font)\n",
      "plt.xlabel('$p_x$',**axis_font)\n",
      "plt.ylabel('$x$',**axis_font)\n",
      "\n",
      "plt.colorbar()\n",
      "\n",
      "print 'max-min = ', f[ :, :, gridDIM_y/2, gridDIM_p_y/2 ].real.max(), '  ', f[ :, :, gridDIM_y/2, gridDIM_p_y/2 ].real.min()"
     ],
     "language": "python",
     "metadata": {},
     "outputs": [
      {
       "output_type": "stream",
       "stream": "stdout",
       "text": [
        "max-min =  0.00930939945338    4.26674319124e-107\n"
       ]
      },
      {
       "metadata": {},
       "output_type": "display_data",
       "png": "[encoded data removed]",
       "text": [
        "<matplotlib.figure.Figure at 0x7f49d9b75290>"
       ]
      }
     ],
     "prompt_number": 10
    },
    {
     "cell_type": "code",
     "collapsed": false,
     "input": [
      "# Configuration space  \n",
      "plt.imshow( f[ :, gridDIM_p_x/2, :, gridDIM_p_y/2 ].real, \n",
      "           extent=[-y_amplitude, y_amplitude-dy, -x_amplitude, x_amplitude-dx] ,\n",
      "           origin='lower', interpolation='none')\n",
      "\n",
      "axis_font = {'size':'24'}\n",
      "plt.title( '$W$' , **axis_font)\n",
      "plt.xlabel('$y$',**axis_font)\n",
      "plt.ylabel('$x$',**axis_font)\n",
      "plt.axes().set_aspect(1)\n",
      "plt.colorbar()"
     ],
     "language": "python",
     "metadata": {},
     "outputs": [
      {
       "metadata": {},
       "output_type": "pyout",
       "prompt_number": 11,
       "text": [
        "<matplotlib.colorbar.Colorbar at 0x7f49d990a310>"
       ]
      },
      {
       "metadata": {},
       "output_type": "display_data",
       "png": "[encoded data removed]",
       "text": [
        "<matplotlib.figure.Figure at 0x7f49d9c40310>"
       ]
      }
     ],
     "prompt_number": 11
    },
    {
     "cell_type": "code",
     "collapsed": false,
     "input": [
      "# Momentum space\n",
      "plt.imshow( f[ gridDIM_x/2, :, gridDIM_y/2, : ].real, \n",
      "           extent=[-p_y_amplitude, p_y_amplitude-dp_y, -p_x_amplitude , p_x_amplitude-dp_x] ,\n",
      "           origin='lower', interpolation='none')\n",
      "\n",
      "axis_font = {'size':'24'}\n",
      "plt.title('$W$' , **axis_font)\n",
      "plt.xlabel('$p_y$',**axis_font)\n",
      "plt.ylabel('$p_x$',**axis_font)\n",
      "plt.axes().set_aspect(1)\n",
      "plt.colorbar()"
     ],
     "language": "python",
     "metadata": {},
     "outputs": [
      {
       "metadata": {},
       "output_type": "pyout",
       "prompt_number": 12,
       "text": [
        "<matplotlib.colorbar.Colorbar at 0x7f49d97de6d0>"
       ]
      },
      {
       "metadata": {},
       "output_type": "display_data",
       "png": "[encoded data removed]",
       "text": [
        "<matplotlib.figure.Figure at 0x7f49d9a11790>"
       ]
      }
     ],
     "prompt_number": 12
    },
    {
     "cell_type": "heading",
     "level": 2,
     "metadata": {},
     "source": [
      "$W$ TRANSFORM"
     ]
    },
    {
     "cell_type": "code",
     "collapsed": false,
     "input": [
      "# Allocate GPU memory and copy data to GPU\n",
      "\n",
      "print '         GPU memory Total           ', pycuda.driver.mem_get_info()[1]/float(2**30) , 'GB'\n",
      "print '         GPU memory Free  (Before)  ', pycuda.driver.mem_get_info()[0]/float(2**30) , 'GB'\n",
      "\n",
      "F_gpu = gpuarray.zeros( ( gridDIM_x, gridDIM_p_x, gridDIM_y, gridDIM_p_y ), dtype=np.complex128 )\n",
      "\n",
      "F_gpu[:,:,:,:] = f[:,:,:,:]\n",
      "\n",
      "print '         GPU memory Free  (After)   ', pycuda.driver.mem_get_info()[0]/float(2**30) , 'GB'\n"
     ],
     "language": "python",
     "metadata": {},
     "outputs": [
      {
       "output_type": "stream",
       "stream": "stdout",
       "text": [
        "         GPU memory Total            5.17700195312 GB\n",
        "         GPU memory Free  (Before)   5.13043212891 GB\n",
        "         GPU memory Free  (After)   "
       ]
      },
      {
       "output_type": "stream",
       "stream": "stdout",
       "text": [
        " 4.12945556641 GB\n"
       ]
      }
     ],
     "prompt_number": 13
    },
    {
     "cell_type": "code",
     "collapsed": false,
     "input": [
      "print F_gpu.shape\n",
      "print f.shape"
     ],
     "language": "python",
     "metadata": {},
     "outputs": [
      {
       "output_type": "stream",
       "stream": "stdout",
       "text": [
        "(128, 128, 64, 64)\n",
        "(128, 128, 64, 64)\n"
       ]
      }
     ],
     "prompt_number": 14
    },
    {
     "cell_type": "code",
     "collapsed": false,
     "input": [
      "(5.1767578125 - 4.62921142578)*10"
     ],
     "language": "python",
     "metadata": {},
     "outputs": [
      {
       "metadata": {},
       "output_type": "pyout",
       "prompt_number": 15,
       "text": [
        "5.475463867199997"
       ]
      }
     ],
     "prompt_number": 15
    },
    {
     "cell_type": "heading",
     "level": 3,
     "metadata": {},
     "source": [
      "Forward Transform"
     ]
    },
    {
     "cell_type": "code",
     "collapsed": false,
     "input": [
      "# Executing FFT\n",
      "\n",
      "t_init = time.time()\n",
      "\n",
      "FAFT_4D_Z2Z.FAFT__128_128_64_64( F_gpu, dx,   delta_x,   segment_axes0, axes0, normFactor )\n",
      "FAFT_4D_Z2Z.FAFT__128_128_64_64( F_gpu, dp_x, delta_p_x, segment_axes1, axes1, normFactor )\n",
      "FAFT_4D_Z2Z.FAFT__128_128_64_64( F_gpu, dy,   delta_y,   segment_axes2, axes2, normFactor )\n",
      "FAFT_4D_Z2Z.FAFT__128_128_64_64( F_gpu, dp_y, delta_p_y, segment_axes3, axes3, normFactor )\n",
      "\n",
      "t_end = time.time() \n",
      "\n",
      "print 'computation time = ', t_end - t_init"
     ],
     "language": "python",
     "metadata": {},
     "outputs": [
      {
       "output_type": "stream",
       "stream": "stdout",
       "text": [
        "computation time =  7.47222805023\n"
       ]
      }
     ],
     "prompt_number": 16
    },
    {
     "cell_type": "raw",
     "metadata": {
      "collapsed": false
     },
     "source": [
      "t_init = time.time()\n",
      "\n",
      "FAFT_4D_Z2Z.FAFT__128_128_64_64( F_gpu, dp_x, delta_p_x, segment_axes1, axes1, normFactor )\n",
      "\n",
      "t_end = time.time() \n",
      "\n",
      "print 'computation time = ', t_end - t_init"
     ]
    },
    {
     "cell_type": "raw",
     "metadata": {
      "collapsed": false
     },
     "source": [
      "t_init = time.time()\n",
      "\n",
      "FAFT_4D_Z2Z.FAFT__128_128_64_64( F_gpu, dy,   delta_y,   segment_axes2, axes2, normFactor )\n",
      "\n",
      "t_end = time.time() \n",
      "\n",
      "print 'computation time = ', t_end - t_init"
     ]
    },
    {
     "cell_type": "raw",
     "metadata": {
      "collapsed": false
     },
     "source": [
      "t_init = time.time()\n",
      "\n",
      "FAFT_4D_Z2Z.FAFT__128_128_64_64( F_gpu, dp_y, delta_p_y, segment_axes3, axes3, normFactor )\n",
      "\n",
      "t_end = time.time() \n",
      "\n",
      "print 'computation time = ', t_end - t_init"
     ]
    },
    {
     "cell_type": "code",
     "collapsed": false,
     "input": [
      "print ' deltas =' , delta_p_x, delta_x, delta_p_y, delta_y"
     ],
     "language": "python",
     "metadata": {},
     "outputs": [
      {
       "output_type": "stream",
       "stream": "stdout",
       "text": [
        " deltas = 0.00652783946275 0.00652783946275 0.0139882274202 0.0139882274202\n"
       ]
      }
     ],
     "prompt_number": 17
    },
    {
     "cell_type": "code",
     "collapsed": false,
     "input": [
      "# Arbitrary Renormalization \n",
      "F_gpu /= size"
     ],
     "language": "python",
     "metadata": {},
     "outputs": [],
     "prompt_number": 18
    },
    {
     "cell_type": "code",
     "collapsed": false,
     "input": [
      "# Ambiguity space y\n",
      "\n",
      "plt.imshow( F_gpu.get()[ gridDIM_x/2, gridDIM_p_x/2, :, : ].real, \n",
      "           extent=[-lambda_y_amplitude, lambda_y_amplitude-dlambda_y, -theta_y_amplitude, theta_y_amplitude-dtheta_y] ,\n",
      "           origin='lower', interpolation='none')\n",
      "\n",
      "axis_font = {'size':'24'}\n",
      "plt.title('$W$' , **axis_font)\n",
      "plt.xlabel('$\\\\theta_y$',**axis_font)\n",
      "plt.ylabel('$\\\\lambda_y$',**axis_font)\n",
      "\n",
      "plt.colorbar()\n",
      "\n",
      "print 'max-min = ', F_gpu.get()[ gridDIM_x/2, gridDIM_p_x/2, :, : ].real.max(), '  ', F_gpu.get()[ gridDIM_x/2, gridDIM_p_x/2, :, : ].real.min()"
     ],
     "language": "python",
     "metadata": {},
     "outputs": [
      {
       "output_type": "stream",
       "stream": "stdout",
       "text": [
        "max-min =  "
       ]
      },
      {
       "output_type": "stream",
       "stream": "stdout",
       "text": [
        "15.9999802624    "
       ]
      },
      {
       "output_type": "stream",
       "stream": "stdout",
       "text": [
        "-2.73002863582\n"
       ]
      },
      {
       "metadata": {},
       "output_type": "display_data",
       "png": "[encoded data removed]",
       "text": [
        "<matplotlib.figure.Figure at 0x7f49d9c1f150>"
       ]
      }
     ],
     "prompt_number": 19
    },
    {
     "cell_type": "code",
     "collapsed": false,
     "input": [
      "# Ambiguity space x\n",
      "\n",
      "plt.imshow( F_gpu.get()[ :, :, gridDIM_y/2, gridDIM_p_y/2].real, \n",
      "           extent=[-lambda_x_amplitude, lambda_x_amplitude-dlambda_x, -theta_x_amplitude, theta_x_amplitude-dtheta_x] ,\n",
      "           origin='lower', interpolation='none')\n",
      "\n",
      "axis_font = {'size':'24'}\n",
      "plt.title( '$W$' , **axis_font)\n",
      "plt.xlabel('$\\\\theta_x$',**axis_font)\n",
      "plt.ylabel('$\\\\lambda_x$',**axis_font)\n",
      "\n",
      "plt.colorbar()\n",
      "\n",
      "print 'max-min = ', F_gpu.get()[ :, :, gridDIM_y/2, gridDIM_p_y/2].real.max(), '  ', F_gpu.get()[ :, :, gridDIM_y/2, gridDIM_p_y/2].real.min()"
     ],
     "language": "python",
     "metadata": {},
     "outputs": [
      {
       "output_type": "stream",
       "stream": "stdout",
       "text": [
        "max-min =  "
       ]
      },
      {
       "output_type": "stream",
       "stream": "stdout",
       "text": [
        "15.9999802624    "
       ]
      },
      {
       "output_type": "stream",
       "stream": "stdout",
       "text": [
        "-6.37743267269\n"
       ]
      },
      {
       "metadata": {},
       "output_type": "display_data",
       "png": "[encoded data removed]",
       "text": [
        "<matplotlib.figure.Figure at 0x7f49d98d4110>"
       ]
      }
     ],
     "prompt_number": 20
    },
    {
     "cell_type": "code",
     "collapsed": false,
     "input": [
      "# Conjugate configuration space\n",
      "\n",
      "plt.imshow( F_gpu.get()[ :, gridDIM_p_x/2, :, gridDIM_p_y/2 ].real, \n",
      "           extent=[-lambda_y_amplitude, lambda_y_amplitude-dlambda_y, -lambda_x_amplitude, lambda_x_amplitude-dlambda_x] ,\n",
      "           origin='lower', interpolation='none')\n",
      "\n",
      "axis_font = {'size':'24'}\n",
      "plt.title( '$W$' , **axis_font)\n",
      "plt.xlabel('$\\\\lambda_y$',**axis_font)\n",
      "plt.ylabel('$\\\\lambda_x$',**axis_font)\n",
      "plt.axes().set_aspect(1)\n",
      "plt.colorbar()"
     ],
     "language": "python",
     "metadata": {},
     "outputs": [
      {
       "metadata": {},
       "output_type": "pyout",
       "prompt_number": 21,
       "text": [
        "<matplotlib.colorbar.Colorbar at 0x7f49d9306190>"
       ]
      },
      {
       "metadata": {},
       "output_type": "display_data",
       "png": "[encoded data removed]",
       "text": [
        "<matplotlib.figure.Figure at 0x7f49d9b69e90>"
       ]
      }
     ],
     "prompt_number": 21
    },
    {
     "cell_type": "code",
     "collapsed": false,
     "input": [
      "# Conjugate momentum space\n",
      "\n",
      "plt.imshow( F_gpu.get()[ gridDIM_x/2, :, gridDIM_y/2, : ].real, \n",
      "           extent=[-theta_y_amplitude, theta_y_amplitude-dtheta_y, -theta_x_amplitude, theta_x_amplitude-dtheta_x] ,\n",
      "           origin='lower', interpolation='none')\n",
      "\n",
      "axis_font = {'size':'24'}\n",
      "plt.title('$W$' , **axis_font)\n",
      "plt.xlabel('$\\\\theta_y$',**axis_font)\n",
      "plt.ylabel('$\\\\theta_x$',**axis_font)\n",
      "plt.axes().set_aspect(1)\n",
      "plt.colorbar()"
     ],
     "language": "python",
     "metadata": {},
     "outputs": [
      {
       "metadata": {},
       "output_type": "pyout",
       "prompt_number": 22,
       "text": [
        "<matplotlib.colorbar.Colorbar at 0x7f49d9d63c50>"
       ]
      },
      {
       "metadata": {},
       "output_type": "display_data",
       "png": "[encoded data removed]",
       "text": [
        "<matplotlib.figure.Figure at 0x7f49d9b6b690>"
       ]
      }
     ],
     "prompt_number": 22
    },
    {
     "cell_type": "heading",
     "level": 3,
     "metadata": {},
     "source": [
      "Inverse Transform"
     ]
    },
    {
     "cell_type": "code",
     "collapsed": false,
     "input": [
      "# Executing iFFT\n",
      "\n",
      "t_init = time.time() \n",
      "\n",
      "FAFT_4D_Z2Z.IFAFT__128_128_64_64( F_gpu, dx,   delta_x,   segment_axes0, axes0, normFactor )\n",
      "FAFT_4D_Z2Z.IFAFT__128_128_64_64( F_gpu, dp_x, delta_p_x, segment_axes1, axes1, normFactor )\n",
      "FAFT_4D_Z2Z.IFAFT__128_128_64_64( F_gpu, dy,   delta_y,   segment_axes2, axes2, normFactor )\n",
      "FAFT_4D_Z2Z.IFAFT__128_128_64_64( F_gpu, dp_y, delta_p_y, segment_axes3, axes3, normFactor )\n",
      "\n",
      "t_end = time.time() \n",
      "\n",
      "print 'computation time = ', t_end - t_init"
     ],
     "language": "python",
     "metadata": {},
     "outputs": [
      {
       "output_type": "stream",
       "stream": "stdout",
       "text": [
        "computation time =  7.48667788506\n"
       ]
      }
     ],
     "prompt_number": 23
    },
    {
     "cell_type": "raw",
     "metadata": {
      "collapsed": false
     },
     "source": [
      "FAFT_4D_Z2Z.IFAFT__128_128_64_64( F_gpu, dp_x, delta_p_x, segment_axes1, axes1, normFactor )\n"
     ]
    },
    {
     "cell_type": "raw",
     "metadata": {
      "collapsed": false
     },
     "source": [
      "FAFT_4D_Z2Z.IFAFT__128_128_64_64( F_gpu, dy, delta_y, segment_axes2, axes2, normFactor )\n"
     ]
    },
    {
     "cell_type": "raw",
     "metadata": {
      "collapsed": false
     },
     "source": [
      "FAFT_4D_Z2Z.IFAFT__128_128_64_64( F_gpu, dp_y, delta_p_y, segment_axes3, axes3, normFactor )\n"
     ]
    },
    {
     "cell_type": "code",
     "collapsed": false,
     "input": [
      "norm = norm_GPU(F_gpu)\n",
      "\n",
      "F_gpu /= norm"
     ],
     "language": "python",
     "metadata": {},
     "outputs": [],
     "prompt_number": 24
    },
    {
     "cell_type": "code",
     "collapsed": false,
     "input": [
      "# Phase space y\n",
      "\n",
      "plt.imshow( F_gpu.get()[gridDIM_x/2, gridDIM_p_x/2, : ,: ].real, \n",
      "           extent=[-p_y_amplitude , p_y_amplitude-dp_y, -y_amplitude , y_amplitude-dx] ,\n",
      "           origin='lower', interpolation='none')\n",
      "\n",
      "axis_font = {'size':'24'}\n",
      "plt.title('$W$' , **axis_font)\n",
      "plt.xlabel('$p_y$',**axis_font)\n",
      "plt.ylabel('$y$',**axis_font)\n",
      "\n",
      "plt.colorbar()\n",
      "\n"
     ],
     "language": "python",
     "metadata": {},
     "outputs": [
      {
       "metadata": {},
       "output_type": "pyout",
       "prompt_number": 25,
       "text": [
        "<matplotlib.colorbar.Colorbar at 0x7f49d9510590>"
       ]
      },
      {
       "metadata": {},
       "output_type": "display_data",
       "png": "[encoded data removed]",
       "text": [
        "<matplotlib.figure.Figure at 0x7f49e00a4f10>"
       ]
      }
     ],
     "prompt_number": 25
    },
    {
     "cell_type": "code",
     "collapsed": false,
     "input": [
      "# Phase space x\n",
      "\n",
      "plt.imshow( F_gpu.get()[ :, :, gridDIM_y/2, gridDIM_p_y/2 ].real, \n",
      "           extent=[-p_x_amplitude , p_x_amplitude-dp_x, -x_amplitude , x_amplitude-dx] ,\n",
      "           origin='lower', interpolation='none')\n",
      "\n",
      "axis_font = {'size':'24'}\n",
      "plt.title('$W$' , **axis_font)\n",
      "plt.xlabel('$p_x$',**axis_font)\n",
      "plt.ylabel('$x$',**axis_font)\n",
      "\n",
      "plt.colorbar()\n",
      "\n",
      "#print 'max-min = ', F_gpu.get()[ :, :, gridDIM_y/2, gridDIM_p_y/2 ].real.max(), '  ', F_gpu.get()[ :, :, gridDIM_y/2, gridDIM_p_y/2 ].real.min()"
     ],
     "language": "python",
     "metadata": {},
     "outputs": [
      {
       "metadata": {},
       "output_type": "pyout",
       "prompt_number": 26,
       "text": [
        "<matplotlib.colorbar.Colorbar at 0x7f49d922f9d0>"
       ]
      },
      {
       "metadata": {},
       "output_type": "display_data",
       "png": "[encoded data removed]",
       "text": [
        "<matplotlib.figure.Figure at 0x7f49d9d111d0>"
       ]
      }
     ],
     "prompt_number": 26
    },
    {
     "cell_type": "code",
     "collapsed": false,
     "input": [
      "# Momentum space\n",
      "plt.imshow( F_gpu.get()[ gridDIM_x/2, :, gridDIM_y/2 , : ].real, \n",
      "           extent=[-p_y_amplitude , p_y_amplitude-dy, -p_x_amplitude , p_x_amplitude-dx ] ,\n",
      "           origin='lower', interpolation='none')\n",
      "\n",
      "axis_font = {'size':'24'}\n",
      "plt.title('$W$' , **axis_font)\n",
      "plt.xlabel('$p_y$',**axis_font)\n",
      "plt.ylabel('$p_x$',**axis_font)\n",
      "plt.axes().set_aspect(1)\n",
      "plt.colorbar()"
     ],
     "language": "python",
     "metadata": {},
     "outputs": [
      {
       "metadata": {},
       "output_type": "pyout",
       "prompt_number": 27,
       "text": [
        "<matplotlib.colorbar.Colorbar at 0x7f49d908e850>"
       ]
      },
      {
       "metadata": {},
       "output_type": "display_data",
       "png": "[encoded data removed]",
       "text": [
        "<matplotlib.figure.Figure at 0x7f49d91e4850>"
       ]
      }
     ],
     "prompt_number": 27
    },
    {
     "cell_type": "code",
     "collapsed": false,
     "input": [
      "# Configuration space\n",
      "plt.imshow( F_gpu.get()[ :, gridDIM_p_x/2 ,: ,gridDIM_p_y/2 ].real, \n",
      "           extent=[-y_amplitude , y_amplitude-dy, -x_amplitude , x_amplitude-dx] ,\n",
      "           origin='lower', interpolation='none')\n",
      "\n",
      "axis_font = {'size':'24'}\n",
      "plt.title( '$W$' , **axis_font)\n",
      "plt.xlabel('$y$',**axis_font)\n",
      "plt.ylabel('$x$',**axis_font)\n",
      "plt.axes().set_aspect(1)\n",
      "plt.colorbar()"
     ],
     "language": "python",
     "metadata": {},
     "outputs": [
      {
       "metadata": {},
       "output_type": "pyout",
       "prompt_number": 28,
       "text": [
        "<matplotlib.colorbar.Colorbar at 0x7f49d8f9f710>"
       ]
      },
      {
       "metadata": {},
       "output_type": "display_data",
       "png": "[encoded data removed]",
       "text": [
        "<matplotlib.figure.Figure at 0x7f49d92bed90>"
       ]
      }
     ],
     "prompt_number": 28
    },
    {
     "cell_type": "code",
     "collapsed": false,
     "input": [
      "plt.semilogy(\n",
      "F_gpu.get()[ gridDIM_x/2, :, gridDIM_y/2, gridDIM_p_y/2 ].real )\n",
      "\n",
      "plt.semilogy(\n",
      "f[ gridDIM_x/2, :, gridDIM_y/2, gridDIM_p_y/2 ].real )\n",
      "\n",
      "plt.ylim(1e-20,1)"
     ],
     "language": "python",
     "metadata": {},
     "outputs": [
      {
       "metadata": {},
       "output_type": "pyout",
       "prompt_number": 29,
       "text": [
        "(1e-20, 1)"
       ]
      },
      {
       "metadata": {},
       "output_type": "display_data",
       "png": "[encoded data removed]",
       "text": [
        "<matplotlib.figure.Figure at 0x7f49d94b6910>"
       ]
      }
     ],
     "prompt_number": 29
    },
    {
     "cell_type": "code",
     "collapsed": false,
     "input": [],
     "language": "python",
     "metadata": {},
     "outputs": [],
     "prompt_number": 29
    }
   ],
   "metadata": {}
  }
 ]
}