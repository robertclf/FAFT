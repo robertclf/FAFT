{
 "cells": [
  {
   "cell_type": "markdown",
   "metadata": {},
   "source": [
    "# 4D Fast Accurate Fourier Transform - (64, 64, 64, 64)\n",
    "## Complex to Complex"
   ]
  },
  {
   "cell_type": "code",
   "execution_count": 32,
   "metadata": {
    "collapsed": true
   },
   "outputs": [],
   "source": [
    "import numpy as np\n",
    "import ctypes\n",
    "from ctypes import *\n",
    "\n",
    "import pycuda.gpuarray as gpuarray\n",
    "import pycuda.driver as cuda\n",
    "import pycuda.autoinit\n",
    "from pycuda.compiler import SourceModule\n",
    "\n",
    "import matplotlib.pyplot as plt\n",
    "import matplotlib.mlab as mlab\n",
    "import math\n",
    "\n",
    "import time"
   ]
  },
  {
   "cell_type": "code",
   "execution_count": 33,
   "metadata": {
    "collapsed": false
   },
   "outputs": [],
   "source": [
    "%matplotlib inline    "
   ]
  },
  {
   "cell_type": "markdown",
   "metadata": {},
   "source": [
    "## Loading FFT routines"
   ]
  },
  {
   "cell_type": "code",
   "execution_count": 34,
   "metadata": {
    "collapsed": false
   },
   "outputs": [],
   "source": [
    "DIR_BASE = \"/home/robert/Documents/FAFT/for interview/FAFT_64_64_64_64_Z2Z/\"\n",
    "\n",
    "#DIR_BASE = \"/home/renan/Documents/source/python/FAFT/FAFT_64_64_64_64_Z2Z/\"\n",
    "\n",
    "# FAFT 64-points\n",
    "_faft64_4D = ctypes.cdll.LoadLibrary( DIR_BASE+'FAFT_64_64_64_64_Z2Z.so' )\n",
    "_faft64_4D.FAFT64_4D_Z2Z.restype = int\n",
    "_faft64_4D.FAFT64_4D_Z2Z.argtypes = [ctypes.c_void_p, ctypes.c_double, ctypes.c_double, \n",
    "                                       ctypes.c_int, ctypes.c_int, ctypes.c_double ]\n",
    "\n",
    "_faft64_4D.IFAFT64_4D_Z2Z.argtypes = [ctypes.c_void_p, ctypes.c_double, ctypes.c_double, \n",
    "                                       ctypes.c_int, ctypes.c_int, ctypes.c_double ]\n",
    "\n",
    "faft64  = _faft64_4D.FAFT64_4D_Z2Z\n",
    "ifaft64 = _faft64_4D.IFAFT64_4D_Z2Z\n"
   ]
  },
  {
   "cell_type": "markdown",
   "metadata": {},
   "source": [
    "## Initializing Grid"
   ]
  },
  {
   "cell_type": "code",
   "execution_count": 35,
   "metadata": {
    "collapsed": false
   },
   "outputs": [],
   "source": [
    "def Gaussian(x,mu,sigma):\n",
    "    return np.exp( - (x-mu)**2/sigma**2/2. , dtype=np.float64 )/(sigma*np.sqrt( 2*np.pi  ))\n",
    "\n",
    "def fftGaussian(p,mu,sigma):\n",
    "    return np.exp(-1j*mu*p , dtype=np.float64 )*np.exp( - p**2*sigma**2/2. , dtype=np.float64 )"
   ]
  },
  {
   "cell_type": "markdown",
   "metadata": {},
   "source": [
    " The 4D space is defined as: \n",
    " $(x, p_x, y, p_y)$ and is known as the PHASE SPACE"
   ]
  },
  {
   "cell_type": "markdown",
   "metadata": {},
   "source": [
    " The Fourier transformed 4D space is defined as: \n",
    " $(\\lambda_x, \\theta_x, \\lambda_y, \\theta_y)$ and is known as the AMBIGUITY SPACE"
   ]
  },
  {
   "cell_type": "code",
   "execution_count": 36,
   "metadata": {
    "collapsed": false
   },
   "outputs": [],
   "source": [
    "gridDIM_p_y = 64     #axis 0\n",
    "gridDIM_y   = 64     #axis 1    \n",
    "gridDIM_p_x = 64     #axis 2\n",
    "gridDIM_x   = 64     #axis 3\n",
    "\n",
    "size = gridDIM_y*gridDIM_p_y*gridDIM_x*gridDIM_p_x\n",
    "\n",
    "axes0 = 0\n",
    "axes1 = 1\n",
    "axes2 = 2\n",
    "axes3 = 3\n",
    "\n",
    "#m = size\n",
    "\n",
    "segment_axes0 = 0\n",
    "segment_axes1 = 0\n",
    "segment_axes2 = 0\n",
    "segment_axes3 = 0\n",
    "\n",
    "normFactor = 1"
   ]
  },
  {
   "cell_type": "code",
   "execution_count": 37,
   "metadata": {
    "collapsed": false
   },
   "outputs": [],
   "source": [
    "# Phase space window \n",
    "p_y_amplitude = 9.    #axis 0\n",
    "y_amplitude   = 9.    #axis 1\n",
    "p_x_amplitude = 9.    #axis 2\n",
    "x_amplitude   = 9.     #axis 3\n",
    "\n",
    "# Ambiguity space window \n",
    "theta_y_amplitude  = 9.   #axis 0             \n",
    "lambda_y_amplitude = 9.   #axis 1\n",
    "theta_x_amplitude  = 9.   #axis 2\n",
    "lambda_x_amplitude = 9.   #axis 3\n",
    "\n",
    "# Phase space step size \n",
    "dp_y  = 2*p_y_amplitude/float(gridDIM_p_y)           #axis 0\n",
    "dy    = 2*y_amplitude  /float(gridDIM_y)             #axis 1\n",
    "dp_x  = 2*p_x_amplitude/float(gridDIM_p_x)           #axis 2\n",
    "dx    = 2*x_amplitude  /float(gridDIM_x)             #axis 3  \n",
    "\n",
    "# Ambiguity space step size\n",
    "dtheta_y  = 2*theta_y_amplitude /float(gridDIM_y)     #axis 0\n",
    "dlambda_y = 2*lambda_y_amplitude/float(gridDIM_p_y)   #axis 1\n",
    "dtheta_x  = 2*theta_x_amplitude /float(gridDIM_x)     #axis 2\n",
    "dlambda_x = 2*lambda_x_amplitude/float(gridDIM_p_x)   #axis 3\n",
    "\n",
    "# delta parameters\n",
    "delta_p_y =   dp_y*dtheta_y/(2*np.pi)     #axis 0\n",
    "delta_y  =      dy*dlambda_y/(2*np.pi)    #axis 1\n",
    "delta_p_x =   dp_x*dtheta_x/(2*np.pi)     #axis 2\n",
    "delta_x  =      dx*dlambda_x/(2*np.pi)    #axis 3\n",
    "\n",
    "# Phase space range\n",
    "p_y_range = np.linspace( -p_y_amplitude, p_y_amplitude-dp_y,  gridDIM_p_y)    #axis 0\n",
    "y_range   = np.linspace( -y_amplitude,   y_amplitude  -dy,    gridDIM_y  )    #axis 1\n",
    "p_x_range = np.linspace( -p_x_amplitude, p_x_amplitude-dp_x,  gridDIM_p_x)    #axis 2\n",
    "x_range   = np.linspace( -x_amplitude,   x_amplitude  -dx,    gridDIM_x  )    #axis 3\n",
    "\n",
    "# Ambiguity space range\n",
    "theta_y_range  = np.linspace( -theta_y_amplitude,  theta_y_amplitude -dtheta_y,    gridDIM_y   ) #axis0 \n",
    "lambda_y_range = np.linspace( -lambda_y_amplitude, lambda_y_amplitude-dlambda_y,   gridDIM_p_y ) #axis1\n",
    "theta_x_range  = np.linspace( -theta_x_amplitude,  theta_x_amplitude -dtheta_x,    gridDIM_x   ) #axis 2\n",
    "lambda_x_range = np.linspace( -lambda_x_amplitude, lambda_x_amplitude-dlambda_x,   gridDIM_p_x ) #axis 3\n",
    "\n",
    "# Grid \n",
    "y   =   y_range[ np.newaxis, :, np.newaxis, np.newaxis ]   #axis 1\n",
    "p_y = p_y_range[ :, np.newaxis, np.newaxis, np.newaxis ]   #axis 0\n",
    "p_x = p_x_range[ np.newaxis, np.newaxis, :, np.newaxis ]   #axis 2\n",
    "x   =   x_range[ np.newaxis, np.newaxis, np.newaxis, : ]   #axis 3\n"
   ]
  },
  {
   "cell_type": "code",
   "execution_count": 38,
   "metadata": {
    "collapsed": false
   },
   "outputs": [],
   "source": [
    "def norm_GPU(W):\n",
    "    return gpuarray.sum(W).real.get()*dx*dy*dp_x*dp_y"
   ]
  },
  {
   "cell_type": "markdown",
   "metadata": {},
   "source": [
    "## Initializing the state"
   ]
  },
  {
   "cell_type": "code",
   "execution_count": 39,
   "metadata": {
    "collapsed": false
   },
   "outputs": [
    {
     "name": "stdout",
     "output_type": "stream",
     "text": [
      " Amplitude x =  9.0\n",
      " Amplitude p_x =  9.0\n",
      "        \n",
      "mu_x =  1.0\n",
      "mu_y =  1.0\n",
      "p_x_mu =  1.0\n",
      "p_y_mu =  1.0\n",
      "   \n",
      "n     =  64\n",
      "dx    =  0.28125\n",
      "dp_x    =  0.28125\n",
      "           standard fft dp =  0.349065850399      \n",
      "    \n",
      "delta_x =  0.0125894046782\n",
      "    \n",
      "The Gaussian extends to the numerical error in single precision:\n",
      "    min =  3.50545085319e-89\n",
      "  \n",
      "Normalization =  1.0\n",
      " \n",
      "Axis = [ x , px , y , py ]   ->   [ lambda_x , theta_x , lambda_y , theta_y ]  \n"
     ]
    }
   ],
   "source": [
    "# Gaussian parameters in the Phase space -------------------------\n",
    "\n",
    "y_mu = 1.;     y_sigma = 1.        #axis 1\n",
    "p_y_mu = 1.;   p_y_sigma = 1.      #axis 0\n",
    "p_x_mu = 1.;   p_x_sigma = 1.      #axis 2\n",
    "x_mu = 1.;     x_sigma = 1.        #axis 3\n",
    "\n",
    "\n",
    "#-----------------------------------------------------------------\n",
    "\n",
    "f = Gaussian(x,x_mu,x_sigma)*Gaussian(y,y_mu,y_sigma)*Gaussian(p_x,p_x_mu, p_x_sigma)*Gaussian(p_y,p_y_mu,p_y_sigma)\n",
    "\n",
    "#f = f + 1j*np.zeros_like(f)\n",
    "f = f + 0j\n",
    "\n",
    "print ' Amplitude x = ',  x_amplitude\n",
    "print ' Amplitude p_x = ',p_x_amplitude\n",
    "print '        '\n",
    "\n",
    "print 'mu_x = ', x_mu\n",
    "print 'mu_y = ', y_mu\n",
    "print 'p_x_mu = ', p_x_mu\n",
    "print 'p_y_mu = ', p_y_mu\n",
    "\n",
    "print '   '\n",
    "\n",
    "print 'n     = ', x.size\n",
    "print 'dx    = ', dx\n",
    "print 'dp_x    = ', dp_x\n",
    "print '           standard fft dp = ',2 * np.pi /( 2*x_amplitude ) , '     '\n",
    "print '    '\n",
    "print 'delta_x = ', delta_x\n",
    "\n",
    "\n",
    "print '    '\n",
    "\n",
    "print 'The Gaussian extends to the numerical error in single precision:'  \n",
    "print '    min = ', np.min(f.real)\n",
    "\n",
    "print '  '\n",
    "print 'Normalization = ', np.sum( f ).real*dx*dy*dp_x*dp_y\n",
    "print ' '\n",
    "print 'Axis = [ x , px , y , py ]   ->   [ lambda_x , theta_x , lambda_y , theta_y ]  '"
   ]
  },
  {
   "cell_type": "code",
   "execution_count": 40,
   "metadata": {
    "collapsed": false
   },
   "outputs": [
    {
     "name": "stdout",
     "output_type": "stream",
     "text": [
      "max-min =  0.00917402522843    3.46655097701e-46\n"
     ]
    },
    {
     "data": {
      "image/png": "[encoded data removed]",
      "text/plain": [
       "<matplotlib.figure.Figure at 0x7f825befb650>"
      ]
     },
     "metadata": {},
     "output_type": "display_data"
    }
   ],
   "source": [
    "# Phase space y\n",
    "plt.imshow( f[gridDIM_x/2, gridDIM_p_x/2, :, : ].real, \n",
    "           extent=[-y_amplitude , y_amplitude-dy, -p_y_amplitude , p_y_amplitude-dp_y] ,\n",
    "           origin='lower', interpolation='none')\n",
    "\n",
    "axis_font = {'size':'24'}\n",
    "plt.text( 0., 7.1, '$W$' , **axis_font)\n",
    "plt.xlabel('$y$',**axis_font)\n",
    "plt.ylabel('$p_y$',**axis_font)\n",
    "\n",
    "plt.colorbar()\n",
    "\n",
    "print 'max-min = ', f[gridDIM_x/2, gridDIM_p_x/2, :, : ].real.max(), '  ', f[gridDIM_x/2, gridDIM_p_x/2, :, : ].real.min()"
   ]
  },
  {
   "cell_type": "code",
   "execution_count": 41,
   "metadata": {
    "collapsed": false
   },
   "outputs": [
    {
     "name": "stdout",
     "output_type": "stream",
     "text": [
      "max-min =  0.00917402522843    3.46655097701e-46\n"
     ]
    },
    {
     "data": {
      "image/png": "[encoded data removed]",
      "text/plain": [
       "<matplotlib.figure.Figure at 0x7f825babda10>"
      ]
     },
     "metadata": {},
     "output_type": "display_data"
    }
   ],
   "source": [
    "# Phase space x \n",
    "plt.imshow( f[:, :, gridDIM_y/2, gridDIM_p_y/2].real, \n",
    "           extent=[-x_amplitude , x_amplitude-dx, -p_x_amplitude , p_x_amplitude-dp_x] ,\n",
    "           origin='lower', interpolation='none')\n",
    "\n",
    "axis_font = {'size':'24'}\n",
    "plt.text( 0., 14.1, '$W$' , **axis_font)\n",
    "plt.xlabel('$x$',**axis_font)\n",
    "plt.ylabel('$p_x$',**axis_font)\n",
    "\n",
    "plt.colorbar()\n",
    "\n",
    "print 'max-min = ', f[:, :, gridDIM_y/2, gridDIM_p_y/2].real.max(), '  ', f[:, :, gridDIM_y/2, gridDIM_p_y/2].real.min()"
   ]
  },
  {
   "cell_type": "code",
   "execution_count": 42,
   "metadata": {
    "collapsed": false
   },
   "outputs": [
    {
     "data": {
      "text/plain": [
       "<matplotlib.colorbar.Colorbar at 0x7f825b728290>"
      ]
     },
     "execution_count": 42,
     "metadata": {},
     "output_type": "execute_result"
    },
    {
     "data": {
      "image/png": "[encoded data removed]",
      "text/plain": [
       "<matplotlib.figure.Figure at 0x7f825b964e90>"
      ]
     },
     "metadata": {},
     "output_type": "display_data"
    }
   ],
   "source": [
    "# Configuration space  \n",
    "plt.imshow( f[ :, gridDIM_p_x/2 , : , gridDIM_p_y/2].real, \n",
    "           extent=[-y_amplitude , y_amplitude-dy, -x_amplitude , x_amplitude-dx] ,\n",
    "           origin='lower', interpolation='none')\n",
    "\n",
    "axis_font = {'size':'24'}\n",
    "plt.text( 0., 7.1, '$W$' , **axis_font)\n",
    "plt.xlabel('$y$',**axis_font)\n",
    "plt.ylabel('$x$',**axis_font)\n",
    "plt.axes().set_aspect(1)\n",
    "plt.colorbar()"
   ]
  },
  {
   "cell_type": "code",
   "execution_count": 43,
   "metadata": {
    "collapsed": false
   },
   "outputs": [
    {
     "data": {
      "text/plain": [
       "<matplotlib.colorbar.Colorbar at 0x7f825b5faa90>"
      ]
     },
     "execution_count": 43,
     "metadata": {},
     "output_type": "execute_result"
    },
    {
     "data": {
      "image/png": "[encoded data removed]",
      "text/plain": [
       "<matplotlib.figure.Figure at 0x7f825b6d1ad0>"
      ]
     },
     "metadata": {},
     "output_type": "display_data"
    }
   ],
   "source": [
    "# Momentum space\n",
    "plt.imshow( f[gridDIM_x/2 , :, gridDIM_y/2, :  ].real, \n",
    "           extent=[-p_y_amplitude , p_y_amplitude-dp_y, -p_x_amplitude , p_x_amplitude-dp_x] ,\n",
    "           origin='lower', interpolation='none')\n",
    "\n",
    "axis_font = {'size':'24'}\n",
    "plt.text( 0., 7.1, '$W$' , **axis_font)\n",
    "plt.xlabel('$p_y$',**axis_font)\n",
    "plt.ylabel('$p_x$',**axis_font)\n",
    "plt.axes().set_aspect(1)\n",
    "plt.colorbar()"
   ]
  },
  {
   "cell_type": "markdown",
   "metadata": {},
   "source": [
    "## $W$ TRANSFORM"
   ]
  },
  {
   "cell_type": "code",
   "execution_count": 44,
   "metadata": {
    "collapsed": false
   },
   "outputs": [
    {
     "name": "stdout",
     "output_type": "stream",
     "text": [
      "         GPU memory Total               1.94927978516 GB\n",
      "         GPU memory Free  (Before)      0.976135253906 GB\n",
      "         GPU memory Free  (After)       0.976135253906 GB\n"
     ]
    }
   ],
   "source": [
    "# Allocate GPU memory and copy data to GPU\n",
    "\n",
    "print '         GPU memory Total              ', pycuda.driver.mem_get_info()[1]/float(2**30) , 'GB'\n",
    "print '         GPU memory Free  (Before)     ', pycuda.driver.mem_get_info()[0]/float(2**30) , 'GB'\n",
    "\n",
    "#F_gpu = gpuarray.zeros( ( gridDIM_p_y, gridDIM_y, gridDIM_p_x, gridDIM_x ), dtype=np.complex128 )\n",
    "F_gpu = gpuarray.zeros( ( gridDIM_x, gridDIM_p_x, gridDIM_y, gridDIM_p_y ), dtype=np.complex128 )\n",
    "\n",
    "F_gpu[:,:,:,:] = f[:,:,:,:]\n",
    "\n",
    "print '         GPU memory Free  (After)      ', pycuda.driver.mem_get_info()[0]/float(2**30) , 'GB'\n",
    "\n",
    "#F_gpu[:,:] = np.ascontiguousarray( f, dtype = np.complex64 )[:,:]"
   ]
  },
  {
   "cell_type": "code",
   "execution_count": 45,
   "metadata": {
    "collapsed": false
   },
   "outputs": [
    {
     "name": "stdout",
     "output_type": "stream",
     "text": [
      "(64, 64, 64, 64)\n",
      "(64, 64, 64, 64)\n"
     ]
    }
   ],
   "source": [
    "print F_gpu.shape\n",
    "print f.shape\n",
    "#print f\n",
    "#print f[np.newaxis,:,:].shape"
   ]
  },
  {
   "cell_type": "code",
   "execution_count": 46,
   "metadata": {
    "collapsed": false
   },
   "outputs": [
    {
     "data": {
      "text/plain": [
       "5.475463867199997"
      ]
     },
     "execution_count": 46,
     "metadata": {},
     "output_type": "execute_result"
    }
   ],
   "source": [
    "(5.1767578125 - 4.62921142578)*10"
   ]
  },
  {
   "cell_type": "markdown",
   "metadata": {},
   "source": [
    "### Forward Transform"
   ]
  },
  {
   "cell_type": "code",
   "execution_count": 47,
   "metadata": {
    "collapsed": false
   },
   "outputs": [
    {
     "name": "stdout",
     "output_type": "stream",
     "text": [
      "computation time =  7.54605388641\n"
     ]
    }
   ],
   "source": [
    "# Executing FFT\n",
    "\n",
    "t_init = time.time() \n",
    "\n",
    "faft64( int(F_gpu.gpudata), dp_y, delta_p_y, segment_axes0, axes0, normFactor )\n",
    "faft64( int(F_gpu.gpudata), dy,   delta_y,   segment_axes1, axes1, normFactor )\n",
    "faft64( int(F_gpu.gpudata), dp_x, delta_p_x, segment_axes2, axes2, normFactor )\n",
    "faft64( int(F_gpu.gpudata), dx,   delta_x,   segment_axes3, axes3, normFactor )\n",
    "\n",
    "t_end = time.time() \n",
    "\n",
    "print 'computation time = ', t_end - t_init"
   ]
  },
  {
   "cell_type": "code",
   "execution_count": 48,
   "metadata": {
    "collapsed": false
   },
   "outputs": [
    {
     "name": "stdout",
     "output_type": "stream",
     "text": [
      " deltas = 0.0125894046782 0.0125894046782 0.0125894046782 0.0125894046782\n"
     ]
    }
   ],
   "source": [
    "print ' deltas =' , delta_x, delta_p_x, delta_y, delta_p_y"
   ]
  },
  {
   "cell_type": "code",
   "execution_count": 49,
   "metadata": {
    "collapsed": false
   },
   "outputs": [],
   "source": [
    "# Arbitrary Renormalization \n",
    "F_gpu /= size"
   ]
  },
  {
   "cell_type": "code",
   "execution_count": 50,
   "metadata": {
    "collapsed": false
   },
   "outputs": [
    {
     "name": "stdout",
     "output_type": "stream",
     "text": [
      "max-min =  16.0    -2.83495209922\n"
     ]
    },
    {
     "data": {
      "image/png": "[encoded data removed]",
      "text/plain": [
       "<matplotlib.figure.Figure at 0x7f825ba7f850>"
      ]
     },
     "metadata": {},
     "output_type": "display_data"
    }
   ],
   "source": [
    "# Ambiguity space y\n",
    "\n",
    "plt.imshow( F_gpu.get()[gridDIM_x/2, gridDIM_p_x/2, :, : ].real, \n",
    "           extent=[lambda_y_amplitude-dlambda_y, -lambda_y_amplitude, theta_y_amplitude-dtheta_y, -theta_y_amplitude] ,\n",
    "           origin='lower', interpolation='none')\n",
    "\n",
    "axis_font = {'size':'24'}\n",
    "plt.text( 0., 9.1, '$W$' , **axis_font)\n",
    "plt.xlabel('$\\\\theta_y$',**axis_font)\n",
    "plt.ylabel('$\\\\lambda_y$',**axis_font)\n",
    "\n",
    "plt.colorbar()\n",
    "\n",
    "print 'max-min = ', F_gpu.get()[gridDIM_x/2, gridDIM_p_x/2, :, : ].real.max(), '  ', F_gpu.get()[gridDIM_x/2, gridDIM_p_x/2, :, :].real.min()"
   ]
  },
  {
   "cell_type": "code",
   "execution_count": 51,
   "metadata": {
    "collapsed": false
   },
   "outputs": [
    {
     "name": "stdout",
     "output_type": "stream",
     "text": [
      "max-min =  16.0    -2.83495209922\n"
     ]
    },
    {
     "data": {
      "image/png": "[encoded data removed]",
      "text/plain": [
       "<matplotlib.figure.Figure at 0x7f825b4e7750>"
      ]
     },
     "metadata": {},
     "output_type": "display_data"
    }
   ],
   "source": [
    "# Ambiguity space x\n",
    "\n",
    "plt.imshow( F_gpu.get()[ :, :, gridDIM_y/2, gridDIM_p_y/2].real, \n",
    "           extent=[-lambda_x_amplitude , lambda_x_amplitude-dlambda_x, -theta_x_amplitude, theta_x_amplitude-dtheta_x] ,\n",
    "           origin='lower', interpolation='none')\n",
    "\n",
    "axis_font = {'size':'24'}\n",
    "plt.text( 0., 12.1, '$W$' , **axis_font)\n",
    "plt.xlabel('$\\\\theta_x$',**axis_font)\n",
    "plt.ylabel('$\\\\lambda_x$',**axis_font)\n",
    "\n",
    "plt.colorbar()\n",
    "\n",
    "print 'max-min = ', F_gpu.get()[ :, :, gridDIM_y/2, gridDIM_p_y/2 ].real.max(), '  ', F_gpu.get()[ :, :, gridDIM_y/2, gridDIM_p_y/2 ].real.min()"
   ]
  },
  {
   "cell_type": "code",
   "execution_count": 52,
   "metadata": {
    "collapsed": false
   },
   "outputs": [
    {
     "data": {
      "text/plain": [
       "<matplotlib.colorbar.Colorbar at 0x7f826009afd0>"
      ]
     },
     "execution_count": 52,
     "metadata": {},
     "output_type": "execute_result"
    },
    {
     "data": {
      "image/png": "[encoded data removed]",
      "text/plain": [
       "<matplotlib.figure.Figure at 0x7f825b342d90>"
      ]
     },
     "metadata": {},
     "output_type": "display_data"
    }
   ],
   "source": [
    "# Conjugate configuration space\n",
    "\n",
    "plt.imshow( F_gpu.get()[ gridDIM_p_y/2 , :: , gridDIM_p_x/2 , :: ].real, \n",
    "           extent=[-theta_x_amplitude , theta_x_amplitude-dtheta_x, -theta_y_amplitude , theta_y_amplitude-dtheta_y] ,\n",
    "           origin='lower', interpolation='none')\n",
    "\n",
    "axis_font = {'size':'24'}\n",
    "plt.text( 0., 9.1, '$W$' , **axis_font)\n",
    "plt.xlabel('$\\\\theta_x$',**axis_font)\n",
    "plt.ylabel('$\\\\theta_y$',**axis_font)\n",
    "plt.axes().set_aspect(1)\n",
    "plt.colorbar()"
   ]
  },
  {
   "cell_type": "code",
   "execution_count": 53,
   "metadata": {
    "collapsed": false
   },
   "outputs": [
    {
     "data": {
      "text/plain": [
       "<matplotlib.colorbar.Colorbar at 0x7f825b964c10>"
      ]
     },
     "execution_count": 53,
     "metadata": {},
     "output_type": "execute_result"
    },
    {
     "data": {
      "image/png": "[encoded data removed]",
      "text/plain": [
       "<matplotlib.figure.Figure at 0x7f825bf81e10>"
      ]
     },
     "metadata": {},
     "output_type": "display_data"
    }
   ],
   "source": [
    "# Conjugate momentum space\n",
    "\n",
    "plt.imshow( F_gpu.get()[ :, gridDIM_y/2 , :, gridDIM_x/2  ].real, \n",
    "           extent=[-lambda_x_amplitude , lambda_x_amplitude-dlambda_x, -lambda_y_amplitude , lambda_y_amplitude-dlambda_y] ,\n",
    "           origin='lower', interpolation='none')\n",
    "\n",
    "axis_font = {'size':'24'}\n",
    "plt.text( 0., 9.2, '$W$' , **axis_font)\n",
    "plt.xlabel('$\\\\lambda_x$',**axis_font)\n",
    "plt.ylabel('$\\\\lambda_y$',**axis_font)\n",
    "plt.axes().set_aspect(1)\n",
    "plt.colorbar()"
   ]
  },
  {
   "cell_type": "markdown",
   "metadata": {},
   "source": [
    "### Inverse Transform"
   ]
  },
  {
   "cell_type": "raw",
   "metadata": {
    "collapsed": false
   },
   "source": [
    "# Executing FFT\n",
    "\n",
    "t_init = time.time() \n",
    "\n",
    "faft64( int(F_gpu.gpudata), dp_y, -delta_p_y, segment_axes0, axes0, normFactor )\n",
    "faft64( int(F_gpu.gpudata), dy,   -delta_y,   segment_axes1, axes1, normFactor )\n",
    "faft64( int(F_gpu.gpudata), dp_x, -delta_p_x, segment_axes2, axes2, normFactor )\n",
    "faft64( int(F_gpu.gpudata), dx,   -delta_x,   segment_axes3, axes3, normFactor )\n",
    "\n",
    "t_end = time.time() \n",
    "\n",
    "print 'computation time = ', t_end - t_init"
   ]
  },
  {
   "cell_type": "code",
   "execution_count": 54,
   "metadata": {
    "collapsed": false
   },
   "outputs": [],
   "source": [
    "# Executing iFFT\n",
    "# Calling the kernels with -delta_y, -delta_x, -delta_z, -delta_u\n",
    "\n",
    "t_init = time.time() \n",
    "\n",
    "ifaft64( int(F_gpu.gpudata), dp_y, delta_p_y, segment_axes0, axes0, normFactor )\n",
    "ifaft64( int(F_gpu.gpudata), dy,   delta_y,   segment_axes1, axes1, normFactor )\n",
    "ifaft64( int(F_gpu.gpudata), dp_x, delta_p_x, segment_axes2, axes2, normFactor )\n",
    "ifaft64( int(F_gpu.gpudata), dx,   delta_x,   segment_axes3, axes3, normFactor )\n",
    "\n",
    "t_end = time.time()\n",
    "\n",
    "#print 'computation time = ', t_end - t_init"
   ]
  },
  {
   "cell_type": "code",
   "execution_count": 55,
   "metadata": {
    "collapsed": false
   },
   "outputs": [],
   "source": [
    "norm = norm_GPU(F_gpu)\n",
    "F_gpu /= norm"
   ]
  },
  {
   "cell_type": "code",
   "execution_count": 56,
   "metadata": {
    "collapsed": false
   },
   "outputs": [
    {
     "data": {
      "text/plain": [
       "<matplotlib.colorbar.Colorbar at 0x7f824b4d8090>"
      ]
     },
     "execution_count": 56,
     "metadata": {},
     "output_type": "execute_result"
    },
    {
     "data": {
      "image/png": "[encoded data removed]",
      "text/plain": [
       "<matplotlib.figure.Figure at 0x7f825b8ea5d0>"
      ]
     },
     "metadata": {},
     "output_type": "display_data"
    }
   ],
   "source": [
    "# Phase space y\n",
    "#\n",
    "# The AMPLITUDE IN Py IS TOO BIG. THERE MUST BE AN ERROR \n",
    "#\n",
    "plt.imshow( F_gpu.get()[::,::,gridDIM_p_x/2, gridDIM_x/2 ].real, \n",
    "           extent=[-y_amplitude , y_amplitude-dx, -p_y_amplitude , p_y_amplitude-dp_y] ,\n",
    "           origin='lower', interpolation='none')\n",
    "\n",
    "axis_font = {'size':'24'}\n",
    "plt.text( 0., 7.1, '$W$' , **axis_font)\n",
    "plt.xlabel('$y$',**axis_font)\n",
    "plt.ylabel('$p_y$',**axis_font)\n",
    "\n",
    "plt.colorbar()\n",
    "\n"
   ]
  },
  {
   "cell_type": "code",
   "execution_count": 57,
   "metadata": {
    "collapsed": false
   },
   "outputs": [
    {
     "name": "stdout",
     "output_type": "stream",
     "text": [
      "max-min =  0.00917402522843    -1.46959071066e-17\n"
     ]
    },
    {
     "data": {
      "image/png": "[encoded data removed]",
      "text/plain": [
       "<matplotlib.figure.Figure at 0x7f825b5a7590>"
      ]
     },
     "metadata": {},
     "output_type": "display_data"
    }
   ],
   "source": [
    "# Phase space x\n",
    "\n",
    "plt.imshow( F_gpu.get()[ gridDIM_p_y/2, gridDIM_y/2 , :, :].real, \n",
    "           extent=[-x_amplitude , x_amplitude-dx, -p_x_amplitude , p_x_amplitude-dp_x] ,\n",
    "           origin='lower', interpolation='none')\n",
    "\n",
    "axis_font = {'size':'24'}\n",
    "plt.text( 0., 14.1, '$W$' , **axis_font)\n",
    "plt.xlabel('$x$',**axis_font)\n",
    "plt.ylabel('$p_x$',**axis_font)\n",
    "\n",
    "plt.colorbar()\n",
    "\n",
    "print 'max-min = ', F_gpu.get()[ gridDIM_p_y/2, gridDIM_y/2 , :, :].real.max(), '  ', F_gpu.get()[ gridDIM_p_y/2, gridDIM_y/2 , :, :].real.min()"
   ]
  },
  {
   "cell_type": "code",
   "execution_count": 58,
   "metadata": {
    "collapsed": false
   },
   "outputs": [
    {
     "data": {
      "text/plain": [
       "<matplotlib.colorbar.Colorbar at 0x7f825b0e18d0>"
      ]
     },
     "execution_count": 58,
     "metadata": {},
     "output_type": "execute_result"
    },
    {
     "data": {
      "image/png": "[encoded data removed]",
      "text/plain": [
       "<matplotlib.figure.Figure at 0x7f825b509150>"
      ]
     },
     "metadata": {},
     "output_type": "display_data"
    }
   ],
   "source": [
    "# Momentum space\n",
    "plt.imshow( F_gpu.get()[ :, gridDIM_y/2 , :, gridDIM_x/2  ].real, \n",
    "           extent=[-p_x_amplitude , p_x_amplitude-dx, -p_y_amplitude , p_y_amplitude-dy] ,\n",
    "           origin='lower', interpolation='none')\n",
    "\n",
    "axis_font = {'size':'24'}\n",
    "plt.text( 0., 7.1, '$W$' , **axis_font)\n",
    "plt.xlabel('$p_x$',**axis_font)\n",
    "plt.ylabel('$p_y$',**axis_font)\n",
    "plt.axes().set_aspect(1)\n",
    "plt.colorbar()"
   ]
  },
  {
   "cell_type": "code",
   "execution_count": 59,
   "metadata": {
    "collapsed": false
   },
   "outputs": [
    {
     "data": {
      "text/plain": [
       "<matplotlib.colorbar.Colorbar at 0x7f825b2bb890>"
      ]
     },
     "execution_count": 59,
     "metadata": {},
     "output_type": "execute_result"
    },
    {
     "data": {
      "image/png": "[encoded data removed]",
      "text/plain": [
       "<matplotlib.figure.Figure at 0x7f825b081350>"
      ]
     },
     "metadata": {},
     "output_type": "display_data"
    }
   ],
   "source": [
    "# Configuration space\n",
    "plt.imshow( F_gpu.get()[ gridDIM_p_y/2, : , gridDIM_p_x/2, :  ].real, \n",
    "           extent=[-x_amplitude , x_amplitude-dx, -y_amplitude , y_amplitude-dy] ,\n",
    "           origin='lower', interpolation='none')\n",
    "\n",
    "axis_font = {'size':'24'}\n",
    "plt.text( 0., 7.1, '$W$' , **axis_font)\n",
    "plt.xlabel('$x$',**axis_font)\n",
    "plt.ylabel('$y$',**axis_font)\n",
    "plt.axes().set_aspect(1)\n",
    "plt.colorbar()"
   ]
  },
  {
   "cell_type": "code",
   "execution_count": 60,
   "metadata": {
    "collapsed": false
   },
   "outputs": [
    {
     "data": {
      "text/plain": [
       "(1e-20, 1)"
      ]
     },
     "execution_count": 60,
     "metadata": {},
     "output_type": "execute_result"
    },
    {
     "data": {
      "image/png": "[encoded data removed]",
      "text/plain": [
       "<matplotlib.figure.Figure at 0x7f825b534610>"
      ]
     },
     "metadata": {},
     "output_type": "display_data"
    }
   ],
   "source": [
    "plt.semilogy(\n",
    "F_gpu.get()[ gridDIM_p_y/2, gridDIM_y/2 , :, gridDIM_x/2  ].real )\n",
    "\n",
    "plt.semilogy(\n",
    "f[ gridDIM_p_y/2, gridDIM_y/2 , :, gridDIM_x/2  ].real )\n",
    "\n",
    "plt.ylim(1e-20,1)"
   ]
  },
  {
   "cell_type": "code",
   "execution_count": null,
   "metadata": {
    "collapsed": false
   },
   "outputs": [],
   "source": []
  }
 ],
 "metadata": {
  "kernelspec": {
   "display_name": "Python 2",
   "language": "python",
   "name": "python2"
  },
  "language_info": {
   "codemirror_mode": {
    "name": "ipython",
    "version": 2
   },
   "file_extension": ".py",
   "mimetype": "text/x-python",
   "name": "python",
   "nbconvert_exporter": "python",
   "pygments_lexer": "ipython2",
   "version": "2.7.13"
  }
 },
 "nbformat": 4,
 "nbformat_minor": 0
}
